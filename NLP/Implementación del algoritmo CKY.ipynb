{
 "cells": [
  {
   "cell_type": "markdown",
   "id": "0259fce2",
   "metadata": {},
   "source": [
    "<span style=\"font-size: 20pt; font-weight: bold; color: #0098cd;\">Implementación del algortimo CKY</span>\n",
    " \n",
    " * Samuel Méndez Villegas - A01652277 \n",
    " * Mariana Pérez Carmona - A01731813\n",
    " * Paul Martin Garcia Morfin - A01750164\n",
    " * Nancy Lesly Segura - A01734337\n",
    " * Iker Ledesma Durán - A01653115"
   ]
  },
  {
   "cell_type": "code",
   "execution_count": 1,
   "id": "fbb7eeb1",
   "metadata": {},
   "outputs": [],
   "source": [
    "## Librería utilizada para realizar visualización del resultado\n",
    "from anytree import Node, RenderTree"
   ]
  },
  {
   "cell_type": "markdown",
   "id": "18292b17",
   "metadata": {},
   "source": [
    "* Paso 1. Implementar en Python la representación de la gramática proporcionada."
   ]
  },
  {
   "cell_type": "code",
   "execution_count": 2,
   "id": "cbe8d254",
   "metadata": {},
   "outputs": [],
   "source": [
    "R = {'0': ['S', ['NP', 'VP'], 0.800],\n",
    "     '1': ['NP', ['time', 'flies', 'arrow'], 0.002],\n",
    "     '2': ['NP', ['Det', 'Nominal'], 0.300],\n",
    "     '3': ['NP', ['Nominal', 'Nominal'], 0.200],\n",
    "     '4': ['Nominal', ['time', 'flies', 'arrow'], 0.002],\n",
    "     '5': ['Nominal', ['Nominal', 'Noun'], 0.100],\n",
    "     '6': ['Nominal', ['Nominal', 'PP'], 0.200],\n",
    "     '7': ['VP', ['time'], 0.004],\n",
    "     '8': ['VP', ['flies', 'like'], 0.008],\n",
    "     '9': ['VP', ['Verb', 'NP'], 0.300],\n",
    "     '10': ['VP', ['Verb', 'PP'], 0.200],\n",
    "     '11': ['PP', ['Preposition', 'NP'], 0.100],\n",
    "     '12': ['Verb', ['time'], 0.010],\n",
    "     '13': ['Verb', ['flies', 'like'], 0.020],\n",
    "     '14': ['Noun', ['time', 'flies', 'arrow'], 0.010],\n",
    "     '15': ['Det', ['an'],0.050],\n",
    "     '16': ['Preposition', ['like'], 0.050]}"
   ]
  },
  {
   "cell_type": "code",
   "execution_count": 3,
   "id": "7b06f054",
   "metadata": {},
   "outputs": [],
   "source": [
    "phrase = 'time flies like an arrow'"
   ]
  },
  {
   "cell_type": "markdown",
   "id": "b5cb0b6a",
   "metadata": {},
   "source": [
    "* Paso 2. Implementar en Python la estructura de la matriz de análisis sintáctico (CKY)."
   ]
  },
  {
   "cell_type": "code",
   "execution_count": 4,
   "id": "2ff82f5a",
   "metadata": {},
   "outputs": [],
   "source": [
    "## CREACIÓN DE LA MATRIZ\n",
    "\n",
    "def create_matrix(phrase):\n",
    "    '''\n",
    "    Crea una matriz nxn en donde n es el número de palabras que conforman la frase \"phrase\"\n",
    "    \n",
    "    INPUT\n",
    "    phrase: string\n",
    "    \n",
    "    OUTPUT\n",
    "    matrix: matriz nxn\n",
    "    snt: lista con cada palabra de la frase como elemntos\n",
    "    '''\n",
    "    snt = phrase.split()\n",
    "    n = len(snt)\n",
    "    matrix =  [[[] for _ in range(n)] for _ in range(n)]\n",
    "    return snt, matrix"
   ]
  },
  {
   "cell_type": "markdown",
   "id": "4284a95f",
   "metadata": {},
   "source": [
    "* Paso 3. Implementar en Python el algoritmo CKY probabilístico."
   ]
  },
  {
   "cell_type": "code",
   "execution_count": 5,
   "id": "e007b8be",
   "metadata": {},
   "outputs": [],
   "source": [
    "def join_boxes(R, matrix, r_1, c_1, r_2, c_2, r_objetivo, c_objetivo):\n",
    "    '''\n",
    "    Se forman las etiquetas y se obtienen sus respectivas probabilidades de las combinaciones entre 2 casillas\n",
    "    de la matriz y se guardan en la casilla correspondiente.\n",
    "    \n",
    "    INPUT:\n",
    "    R: Diccionario con reglas gramaticales\n",
    "    matrix: matriz nxn\n",
    "    r_1: fila de una de las casillas a combinar\n",
    "    c_1: columna de una de las casillas a combinar\n",
    "    r_2: fila de la otra casilla a combinar\n",
    "    c_2: columna de una de las casillas a combinar\n",
    "    r_objetivo: fila de la casilla donde se guardarán los resultados\n",
    "    c_objetivo: columna de la casilla donde se guardarán los resultados\n",
    "    \n",
    "    OUTPUT:\n",
    "    matriz actualizada con etiquetas y probabilidades\n",
    "    '''\n",
    "    for i in matrix[r_1][c_1]:\n",
    "        etiqueta_1 = i[0]\n",
    "        prob_1 = i[1]\n",
    "            \n",
    "        for j in matrix[r_2][c_2]:\n",
    "            etiqueta_2 = j[0]\n",
    "            prob_2 = j[1]\n",
    "                \n",
    "            etiqueta = [etiqueta_1, etiqueta_2]\n",
    "                \n",
    "            for rule in R:\n",
    "                if (etiqueta in R[rule]):\n",
    "                    prob = prob_1 * prob_2 * R[rule][2]\n",
    "                    matrix[r_objetivo][c_objetivo].append([R[rule][0],prob, [etiqueta_1,etiqueta_2], [r_1, c_1], [r_2, c_2]])\n",
    "                    \n",
    "    return matrix"
   ]
  },
  {
   "cell_type": "code",
   "execution_count": 6,
   "id": "6f3f51e5",
   "metadata": {},
   "outputs": [],
   "source": [
    "def CKY(phrase, R):\n",
    "    '''\n",
    "    Implementación del algoritmo CKY para obtener matriz con etiquetas y probabilidades. Además de la probabilidad\n",
    "    la matriz almacena para cada celda la combincación de etiquetas con las que se formó y las coordenas de la casilla.\n",
    "    \n",
    "    INPUT:\n",
    "    phrase: string con la frase a evaluar\n",
    "    R: diccionario con reglas gramaticales\n",
    "    \n",
    "    OUTPUT: \n",
    "    matriz con las etiquetas, probabilidades asociadas, etiquetas de origen y casillas de origen.\n",
    "    '''\n",
    "    snt, matrix = create_matrix(phrase)\n",
    "    \n",
    "    for N in range(len(matrix)):\n",
    "        r_1 = 0 # row\n",
    "        c_1 = 0 # column\n",
    "                \n",
    "        ## PRIMERA DIAGONAL\n",
    "        if N == 0:\n",
    "            for word in snt:\n",
    "                for rule in R:\n",
    "                    if(word in R[rule][1]):\n",
    "                        matrix[r_1][c_1].append([R[rule][0], R[rule][2], [word], [r_1, c_1]])\n",
    "                r_1+=1\n",
    "                c_1+=1\n",
    "        \n",
    "        ## SEGUNDA DIAGONAL\n",
    "        if N == 1:\n",
    "            r_2 = 1\n",
    "            c_2 = 1\n",
    "            r_objetivo = 0\n",
    "            c_objetivo = 1\n",
    "\n",
    "            for n in range(len(matrix)-1):\n",
    "                matrix = join_boxes(R, matrix, r_1, c_1, r_2, c_2, r_objetivo, c_objetivo)\n",
    "        \n",
    "                r_1 += 1\n",
    "                c_1 += 1\n",
    "                r_2 += 1\n",
    "                c_2 += 1\n",
    "                r_objetivo += 1\n",
    "                c_objetivo += 1\n",
    "            \n",
    "        ## TERCERA DIAGONAL\n",
    "        if N == 2:\n",
    "            r_2 = 1\n",
    "            c_2 = 2\n",
    "            r_objetivo = 0\n",
    "            c_objetivo = 2\n",
    "\n",
    "            for n in range(len(matrix)-2):\n",
    "                for m in range(2):                \n",
    "                    if m != 0:\n",
    "                        c_1 += 1\n",
    "                        r_2 += 1     \n",
    "                    matrix = join_boxes(R, matrix, r_1, c_1, r_2, c_2, r_objetivo, c_objetivo)\n",
    "\n",
    "                r_1 += 1\n",
    "                c_2 += 1\n",
    "                r_objetivo += 1\n",
    "                c_objetivo += 1\n",
    "            \n",
    "        ## CUARTA DIAGONAL\n",
    "        if N == 3:         \n",
    "            r_2 = 1\n",
    "            c_2 = 3\n",
    "            r_objetivo = 0\n",
    "            c_objetivo = 3\n",
    "            \n",
    "            for n in range(len(matrix)-3):\n",
    "                for m in range(3):\n",
    "                    if m != 0:\n",
    "                        c_1 += 1\n",
    "                        r_2 += 1  \n",
    "                    matrix = join_boxes(R, matrix, r_1, c_1, r_2, c_2, r_objetivo, c_objetivo)\n",
    "            \n",
    "                r_1 += 1\n",
    "                c_1 -= 1\n",
    "                r_2 -= 1\n",
    "                c_2 += 1\n",
    "                r_objetivo += 1\n",
    "                c_objetivo += 1  \n",
    "            \n",
    "        ## QUINTA DIAGONAL\n",
    "        if N == 4:            \n",
    "            r_2 = 1\n",
    "            c_2 = 4\n",
    "            r_objetivo = 0\n",
    "            c_objetivo = 4\n",
    "            \n",
    "            for n in range(len(snt)-4):\n",
    "                for m in range(4):\n",
    "                    if m != 0:\n",
    "                        c_1 += 1\n",
    "                        r_2 += 1\n",
    "                    matrix = join_boxes(R, matrix, r_1, c_1, r_2, c_2, r_objetivo, c_objetivo)            \n",
    "    return matrix    \n",
    "    "
   ]
  },
  {
   "cell_type": "markdown",
   "id": "8e3eb88f",
   "metadata": {},
   "source": [
    "* Paso 4. Aplicar el algoritmo a la frase que se quiere analizar usando la matriz tabla, operando por columnas de abajo arriba y de izquierda a derecha. Para cada celda se deben determinar los constituyentes sintácticos posibles y calcular sus probabilidades."
   ]
  },
  {
   "cell_type": "code",
   "execution_count": 7,
   "id": "7a31ee29",
   "metadata": {
    "scrolled": false
   },
   "outputs": [
    {
     "data": {
      "text/plain": [
       "[[[['NP', 0.002, ['time'], [0, 0]],\n",
       "   ['Nominal', 0.002, ['time'], [0, 0]],\n",
       "   ['VP', 0.004, ['time'], [0, 0]],\n",
       "   ['Verb', 0.01, ['time'], [0, 0]],\n",
       "   ['Noun', 0.01, ['time'], [0, 0]]],\n",
       "  [['S', 1.28e-05, ['NP', 'VP'], [0, 0], [1, 1]],\n",
       "   ['NP', 8e-07, ['Nominal', 'Nominal'], [0, 0], [1, 1]],\n",
       "   ['Nominal', 2.0000000000000003e-06, ['Nominal', 'Noun'], [0, 0], [1, 1]],\n",
       "   ['VP', 6e-06, ['Verb', 'NP'], [0, 0], [1, 1]]],\n",
       "  [['S', 5.1200000000000005e-09, ['NP', 'VP'], [0, 1], [2, 2]]],\n",
       "  [],\n",
       "  [['S', 9.600000000000002e-13, ['NP', 'VP'], [0, 0], [1, 4]],\n",
       "   ['NP', 2.4000000000000005e-14, ['Nominal', 'Nominal'], [0, 0], [1, 4]],\n",
       "   ['S', 1.1520000000000003e-13, ['NP', 'VP'], [0, 1], [2, 4]],\n",
       "   ['Nominal', 6.000000000000002e-14, ['Nominal', 'PP'], [0, 1], [2, 4]]]],\n",
       " [[],\n",
       "  [['NP', 0.002, ['flies'], [1, 1]],\n",
       "   ['Nominal', 0.002, ['flies'], [1, 1]],\n",
       "   ['VP', 0.008, ['flies'], [1, 1]],\n",
       "   ['Verb', 0.02, ['flies'], [1, 1]],\n",
       "   ['Noun', 0.01, ['flies'], [1, 1]]],\n",
       "  [['S', 1.28e-05, ['NP', 'VP'], [1, 1], [2, 2]]],\n",
       "  [],\n",
       "  [['S', 2.8800000000000004e-10, ['NP', 'VP'], [1, 1], [2, 4]],\n",
       "   ['Nominal', 6.000000000000001e-11, ['Nominal', 'PP'], [1, 1], [2, 4]],\n",
       "   ['VP', 6.000000000000001e-10, ['Verb', 'PP'], [1, 1], [2, 4]]]],\n",
       " [[],\n",
       "  [],\n",
       "  [['VP', 0.008, ['like'], [2, 2]],\n",
       "   ['Verb', 0.02, ['like'], [2, 2]],\n",
       "   ['Preposition', 0.05, ['like'], [2, 2]]],\n",
       "  [],\n",
       "  [['VP', 1.8000000000000002e-07, ['Verb', 'NP'], [2, 2], [3, 4]],\n",
       "   ['PP', 1.5000000000000002e-07, ['Preposition', 'NP'], [2, 2], [3, 4]]]],\n",
       " [[],\n",
       "  [],\n",
       "  [],\n",
       "  [['Det', 0.05, ['an'], [3, 3]]],\n",
       "  [['NP', 3e-05, ['Det', 'Nominal'], [3, 3], [4, 4]]]],\n",
       " [[],\n",
       "  [],\n",
       "  [],\n",
       "  [],\n",
       "  [['NP', 0.002, ['arrow'], [4, 4]],\n",
       "   ['Nominal', 0.002, ['arrow'], [4, 4]],\n",
       "   ['Noun', 0.01, ['arrow'], [4, 4]]]]]"
      ]
     },
     "execution_count": 7,
     "metadata": {},
     "output_type": "execute_result"
    }
   ],
   "source": [
    "matriz = CKY(phrase, R)\n",
    "matriz"
   ]
  },
  {
   "cell_type": "markdown",
   "id": "ec742a82",
   "metadata": {},
   "source": [
    "Como se puede observar, la matriz es simétrica, ya que solo se llena de la diagonal principal hacia arriba. Analicemos una de las casillas para ejemplificar qué representa cada ejemplo."
   ]
  },
  {
   "cell_type": "code",
   "execution_count": 8,
   "id": "aa8be503",
   "metadata": {},
   "outputs": [
    {
     "data": {
      "text/plain": [
       "[['NP', 0.002, ['time'], [0, 0]],\n",
       " ['Nominal', 0.002, ['time'], [0, 0]],\n",
       " ['VP', 0.004, ['time'], [0, 0]],\n",
       " ['Verb', 0.01, ['time'], [0, 0]],\n",
       " ['Noun', 0.01, ['time'], [0, 0]]]"
      ]
     },
     "execution_count": 8,
     "metadata": {},
     "output_type": "execute_result"
    }
   ],
   "source": [
    "matriz[0][0]"
   ]
  },
  {
   "cell_type": "markdown",
   "id": "a3e606ab",
   "metadata": {},
   "source": [
    "En el resultado anterior se muestra la celda correspondiete a la casilla (0,0) es decir la casilla superior izquierda. En primer lugar tenemos las etiquetas formadas, posteriormente, se tiene su probabilidad asociada. El tercer elemento de la lista representa la etiqueta de origen, en este caso solo es 'time'. Finalmente, se tiene la casilla de origen de la etiqueta, pero como en este caso se trata de una casilla en la diagonal principal, solo tiene la casilla (0,0).\n",
    "\n",
    "Chequemos la esquina superior derecha, con los esultados finales.\n"
   ]
  },
  {
   "cell_type": "code",
   "execution_count": 9,
   "id": "fd3e2d96",
   "metadata": {},
   "outputs": [
    {
     "data": {
      "text/plain": [
       "[['S', 9.600000000000002e-13, ['NP', 'VP'], [0, 0], [1, 4]],\n",
       " ['NP', 2.4000000000000005e-14, ['Nominal', 'Nominal'], [0, 0], [1, 4]],\n",
       " ['S', 1.1520000000000003e-13, ['NP', 'VP'], [0, 1], [2, 4]],\n",
       " ['Nominal', 6.000000000000002e-14, ['Nominal', 'PP'], [0, 1], [2, 4]]]"
      ]
     },
     "execution_count": 9,
     "metadata": {},
     "output_type": "execute_result"
    }
   ],
   "source": [
    "matriz[0][4]"
   ]
  },
  {
   "cell_type": "markdown",
   "id": "7c22dc6b",
   "metadata": {},
   "source": [
    "Aqui se observa que ya se tienen etiquetas \"S\", con una probabilidad asociada. De igual forma, se tiene el cómo se forma la etiqueta, es decir a partir de qué otras etiquetas, y las coordenadas de las casillas a las cuales corresponden."
   ]
  },
  {
   "cell_type": "markdown",
   "id": "082f956b",
   "metadata": {},
   "source": [
    "* Paso 5. Implementar el algoritmo para el cálculo de la ruta de Viterbi más probable. Como resultado se debe obtener el árbol de análisis sintáctico más probable."
   ]
  },
  {
   "cell_type": "code",
   "execution_count": 10,
   "id": "ef05166e",
   "metadata": {},
   "outputs": [],
   "source": [
    "def definir_ruta_optima(matriz):\n",
    "    oraciones_completas = []\n",
    "    arbol = {}\n",
    "\n",
    "    ## De la casilla superior derecha de la matriz se guardan aquellos registros con etiqueta \"S\", que representan\n",
    "    ## una oración completa en la gramática.\n",
    "    for k in matriz[0][len(matriz)-1]:\n",
    "        if k[0] == 'S':\n",
    "            oraciones_completas.append(k)\n",
    "    \n",
    "    ## Se encuentra la oración completa con mayor probabilidad asociada.\n",
    "    probabilidad_mayor = 0\n",
    "    for i in range(len(oraciones_completas)):\n",
    "        if oraciones_completas[i][1] > probabilidad_mayor:\n",
    "            ## Se guarda la mayor probabilidad encontrada\n",
    "            probabilidad_mayor = oraciones_completas[i][1]\n",
    "            ## Se guarda el registro con la mayor probabilidad\n",
    "            ruta_optima = oraciones_completas[i]\n",
    "            \n",
    "    return ruta_optima, arbol"
   ]
  },
  {
   "cell_type": "code",
   "execution_count": 11,
   "id": "afdc5869",
   "metadata": {},
   "outputs": [],
   "source": [
    "def nodo_hijo(ruta_optima):\n",
    "    nivel = []\n",
    "    casilla_origen_1 = ruta_optima[3]\n",
    "    casilla_origen_2 = ruta_optima[4]\n",
    "\n",
    "    for i in range(2):\n",
    "        if i == 0:\n",
    "            casilla_completa = matriz[casilla_origen_1[0]][casilla_origen_1[1]]\n",
    "        else:\n",
    "            casilla_completa = matriz[casilla_origen_2[0]][casilla_origen_2[1]]\n",
    "    \n",
    "        for elemento in casilla_completa:\n",
    "            if elemento[0] == ruta_optima[2][i]:\n",
    "                nivel.append(elemento[2])\n",
    "    \n",
    "                if i == 1:\n",
    "                    ruta_optima = elemento\n",
    "    \n",
    "    return nivel, ruta_optima"
   ]
  },
  {
   "cell_type": "code",
   "execution_count": 12,
   "id": "1d0eef4b",
   "metadata": {},
   "outputs": [],
   "source": [
    "def show_tree(arbol):\n",
    "    contador = 0\n",
    "\n",
    "    for nivel in arbol:\n",
    "        if contador == 0:\n",
    "            root = Node(arbol[nivel])\n",
    "        elif contador == 1:\n",
    "            level_1_child_1 = Node(arbol[nivel][0], root)\n",
    "            level_1_child_2 = Node(arbol[nivel][1], root)\n",
    "        elif contador == 2:\n",
    "            level_2_child_1 = Node(arbol[nivel][0][0], level_1_child_1)\n",
    "            level_2_child_2 = Node(arbol[nivel][1][0], level_1_child_2)\n",
    "            level_2_child_3 = Node(arbol[nivel][1][1], level_1_child_2)\n",
    "        elif contador == 3:\n",
    "            level_3_child_1 = Node(arbol[nivel][0][0], level_2_child_2)\n",
    "            level_3_child_2 = Node(arbol[nivel][1][0], level_2_child_3)\n",
    "            level_3_child_3 = Node(arbol[nivel][1][1], level_2_child_3)\n",
    "        elif contador == 4:\n",
    "            level_4_child_1 = Node(arbol[nivel][0][0], level_3_child_2)\n",
    "            level_4_child_2 = Node(arbol[nivel][1][0], level_3_child_3)\n",
    "            level_4_child_3 = Node(arbol[nivel][1][1], level_3_child_3)\n",
    "        elif contador == 5:\n",
    "            level_5_child_1 = Node(arbol[nivel][0][0], level_4_child_2)\n",
    "            level_5_child_2 = Node(arbol[nivel][1][0], level_4_child_3)\n",
    "        contador+=1\n",
    "\n",
    "    for pre, fill, node in RenderTree(root):\n",
    "        print(\"%s%s\" % (pre, node.name))"
   ]
  },
  {
   "cell_type": "code",
   "execution_count": 13,
   "id": "f1fa0c6e",
   "metadata": {
    "scrolled": true
   },
   "outputs": [],
   "source": [
    "def construir_arbol(ruta_optima, arbol):\n",
    "    \n",
    "    for n in range(6):\n",
    "        if n == 0:\n",
    "            key = 'Nivel_' + str(n)\n",
    "            arbol[key] = ruta_optima[0]\n",
    "        \n",
    "        elif n == 1:\n",
    "            nivel_1 = [ruta_optima[2][0], ruta_optima[2][1]]\n",
    "            key = 'Nivel_' + str(n)\n",
    "            arbol[key] = nivel_1\n",
    "        \n",
    "        elif n == 2:\n",
    "            nivel_2, ruta_optima = nodo_hijo(ruta_optima)\n",
    "            key = 'Nivel_' + str(n)\n",
    "            arbol[key] = nivel_2\n",
    "        \n",
    "        elif n == 3:\n",
    "            nivel_3, ruta_optima = nodo_hijo(ruta_optima)\n",
    "            key = 'Nivel_' + str(n)\n",
    "            arbol[key] = nivel_3\n",
    "    \n",
    "        elif n == 4:\n",
    "            nivel_4, ruta_optima = nodo_hijo(ruta_optima)\n",
    "            key = 'Nivel_' + str(n)\n",
    "            arbol[key] = nivel_4\n",
    "        \n",
    "        elif n == 5:\n",
    "            nivel_5 = []\n",
    "        \n",
    "            casilla_origen_1 = ruta_optima[3]\n",
    "            casilla_origen_2 = ruta_optima[4]\n",
    "        \n",
    "            for i in range(2):\n",
    "                if i == 0:\n",
    "                    casilla_completa = matriz[casilla_origen_1[0]][casilla_origen_1[1]]\n",
    "                else:\n",
    "                    casilla_completa = matriz[casilla_origen_2[0]][casilla_origen_2[1]]\n",
    "            \n",
    "                for elemento in casilla_completa:                \n",
    "                    if elemento[0] == ruta_optima[2][i]:\n",
    "                        nivel_5.append(elemento[2])\n",
    "                    \n",
    "            key = 'Nivel_' + str(n)\n",
    "            arbol[key] = nivel_5\n",
    "            \n",
    "    return show_tree(arbol)"
   ]
  },
  {
   "cell_type": "markdown",
   "id": "b99fd5f4",
   "metadata": {},
   "source": [
    "Posteriormente, se obtiene la ruta que forma una etiqueta \"S\" (oración completa) con la probabilidad más alta, qué es la siguinte"
   ]
  },
  {
   "cell_type": "code",
   "execution_count": 14,
   "id": "a23f79fb",
   "metadata": {},
   "outputs": [
    {
     "data": {
      "text/plain": [
       "['S', 9.600000000000002e-13, ['NP', 'VP'], [0, 0], [1, 4]]"
      ]
     },
     "execution_count": 14,
     "metadata": {},
     "output_type": "execute_result"
    }
   ],
   "source": [
    "ruta_optima, arbol = definir_ruta_optima(matriz)\n",
    "ruta_optima"
   ]
  },
  {
   "cell_type": "markdown",
   "id": "bc1d8dc4",
   "metadata": {},
   "source": [
    "* Paso 6. Proponer una forma de representación del árbol."
   ]
  },
  {
   "cell_type": "markdown",
   "id": "e3000428",
   "metadata": {},
   "source": [
    "Finalmente, se visualiza el árbol"
   ]
  },
  {
   "cell_type": "code",
   "execution_count": 15,
   "id": "252d64e5",
   "metadata": {},
   "outputs": [
    {
     "name": "stdout",
     "output_type": "stream",
     "text": [
      "S\n",
      "├── NP\n",
      "│   └── time\n",
      "└── VP\n",
      "    ├── Verb\n",
      "    │   └── flies\n",
      "    └── PP\n",
      "        ├── Preposition\n",
      "        │   └── like\n",
      "        └── NP\n",
      "            ├── Det\n",
      "            │   └── an\n",
      "            └── Nominal\n",
      "                └── arrow\n"
     ]
    }
   ],
   "source": [
    "arbol = construir_arbol(ruta_optima, arbol)"
   ]
  }
 ],
 "metadata": {
  "kernelspec": {
   "display_name": "Python 3.9.13 64-bit (microsoft store)",
   "language": "python",
   "name": "python3"
  },
  "language_info": {
   "codemirror_mode": {
    "name": "ipython",
    "version": 3
   },
   "file_extension": ".py",
   "mimetype": "text/x-python",
   "name": "python",
   "nbconvert_exporter": "python",
   "pygments_lexer": "ipython3",
   "version": "3.9.13"
  },
  "vscode": {
   "interpreter": {
    "hash": "b01f93299550ac32b3557a45b99a801f0ac2e3c67ae99baf15ae50129221aee7"
   }
  }
 },
 "nbformat": 4,
 "nbformat_minor": 5
}
